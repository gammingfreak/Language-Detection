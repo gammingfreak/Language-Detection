{
 "cells": [
  {
   "cell_type": "markdown",
   "metadata": {},
   "source": [
    "# Prepare data for models "
   ]
  },
  {
   "cell_type": "code",
   "execution_count": 1,
   "metadata": {},
   "outputs": [],
   "source": [
    "import pandas as pd\n",
    "import numpy as np"
   ]
  },
  {
   "cell_type": "code",
   "execution_count": 3,
   "metadata": {},
   "outputs": [
    {
     "name": "stdout",
     "output_type": "stream",
     "text": [
      "5788767\n",
      "314\n"
     ]
    },
    {
     "data": {
      "text/html": [
       "<div>\n",
       "<style scoped>\n",
       "    .dataframe tbody tr th:only-of-type {\n",
       "        vertical-align: middle;\n",
       "    }\n",
       "\n",
       "    .dataframe tbody tr th {\n",
       "        vertical-align: top;\n",
       "    }\n",
       "\n",
       "    .dataframe thead th {\n",
       "        text-align: right;\n",
       "    }\n",
       "</style>\n",
       "<table border=\"1\" class=\"dataframe\">\n",
       "  <thead>\n",
       "    <tr style=\"text-align: right;\">\n",
       "      <th></th>\n",
       "      <th>lang</th>\n",
       "      <th>sent</th>\n",
       "    </tr>\n",
       "  </thead>\n",
       "  <tbody>\n",
       "    <tr>\n",
       "      <th>4</th>\n",
       "      <td>cmn</td>\n",
       "      <td>今天是６月１８号，也是Muiriel的生日！</td>\n",
       "    </tr>\n",
       "    <tr>\n",
       "      <th>20</th>\n",
       "      <td>cmn</td>\n",
       "      <td>选择什么是“对”或“错”是一项艰难的任务，我们却必须要完成它。</td>\n",
       "    </tr>\n",
       "    <tr>\n",
       "      <th>66</th>\n",
       "      <td>cmn</td>\n",
       "      <td>我们看东西不是看其实质，而是以我们的主观意识看它们的。</td>\n",
       "    </tr>\n",
       "    <tr>\n",
       "      <th>70</th>\n",
       "      <td>cmn</td>\n",
       "      <td>生活就是當你忙著進行你的計劃時總有其他的事情發生。</td>\n",
       "    </tr>\n",
       "    <tr>\n",
       "      <th>75</th>\n",
       "      <td>deu</td>\n",
       "      <td>Lass uns etwas versuchen!</td>\n",
       "    </tr>\n",
       "  </tbody>\n",
       "</table>\n",
       "</div>"
      ],
      "text/plain": [
       "   lang                             sent\n",
       "4   cmn           今天是６月１８号，也是Muiriel的生日！\n",
       "20  cmn  选择什么是“对”或“错”是一项艰难的任务，我们却必须要完成它。\n",
       "66  cmn      我们看东西不是看其实质，而是以我们的主观意识看它们的。\n",
       "70  cmn        生活就是當你忙著進行你的計劃時總有其他的事情發生。\n",
       "75  deu        Lass uns etwas versuchen!"
      ]
     },
     "execution_count": 3,
     "metadata": {},
     "output_type": "execute_result"
    }
   ],
   "source": [
    "data_original = pd.read_csv('sentences.csv',sep='\\t', encoding='utf8', header = None)\n",
    "data_original.drop([0], axis=1,inplace=True)\n",
    "data_original.columns = ['lang','sent']\n",
    "data_original = data_original[data_original.sent.str.len()<=200]#Only select sentences less that 200 characters\n",
    "data_original = data_original[data_original.sent.str.len()>=20]#Only select sentences greater that 20 characters\n",
    "print(len(data_original))\n",
    "print(data_original['lang'].nunique()) #328 unique languages\n",
    "data_original.head()"
   ]
  }
 ],
 "metadata": {
  "kernelspec": {
   "display_name": "tensor",
   "language": "python",
   "name": "tensor"
  },
  "language_info": {
   "codemirror_mode": {
    "name": "ipython",
    "version": 3
   },
   "file_extension": ".py",
   "mimetype": "text/x-python",
   "name": "python",
   "nbconvert_exporter": "python",
   "pygments_lexer": "ipython3",
   "version": "3.6.6"
  }
 },
 "nbformat": 4,
 "nbformat_minor": 2
}

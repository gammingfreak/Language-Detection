{
 "cells": [
  {
   "cell_type": "markdown",
   "metadata": {},
   "source": [
    "## Check and visualise data"
   ]
  },
  {
   "cell_type": "code",
   "execution_count": 1,
   "metadata": {},
   "outputs": [],
   "source": [
    "#\n",
    "import pandas as pd"
   ]
  },
  {
   "cell_type": "code",
   "execution_count": 6,
   "metadata": {},
   "outputs": [
    {
     "name": "stdout",
     "output_type": "stream",
     "text": [
      "210000 60000 30000\n"
     ]
    },
    {
     "data": {
      "text/html": [
       "<div>\n",
       "<style scoped>\n",
       "    .dataframe tbody tr th:only-of-type {\n",
       "        vertical-align: middle;\n",
       "    }\n",
       "\n",
       "    .dataframe tbody tr th {\n",
       "        vertical-align: top;\n",
       "    }\n",
       "\n",
       "    .dataframe thead th {\n",
       "        text-align: right;\n",
       "    }\n",
       "</style>\n",
       "<table border=\"1\" class=\"dataframe\">\n",
       "  <thead>\n",
       "    <tr style=\"text-align: right;\">\n",
       "      <th></th>\n",
       "      <th>lang</th>\n",
       "      <th>sent</th>\n",
       "    </tr>\n",
       "  </thead>\n",
       "  <tbody>\n",
       "    <tr>\n",
       "      <th>588989</th>\n",
       "      <td>eng</td>\n",
       "      <td>He doffed his hat when he saw me.</td>\n",
       "    </tr>\n",
       "    <tr>\n",
       "      <th>1212427</th>\n",
       "      <td>spa</td>\n",
       "      <td>El surgimiento del exoesqueleto en los artrópo...</td>\n",
       "    </tr>\n",
       "    <tr>\n",
       "      <th>6679762</th>\n",
       "      <td>eng</td>\n",
       "      <td>I know I will survive.</td>\n",
       "    </tr>\n",
       "    <tr>\n",
       "      <th>5641480</th>\n",
       "      <td>eng</td>\n",
       "      <td>The party split into two warring factions.</td>\n",
       "    </tr>\n",
       "    <tr>\n",
       "      <th>3224360</th>\n",
       "      <td>ita</td>\n",
       "      <td>Non lo augurerei a nessuno.</td>\n",
       "    </tr>\n",
       "  </tbody>\n",
       "</table>\n",
       "</div>"
      ],
      "text/plain": [
       "        lang                                               sent\n",
       "588989   eng                  He doffed his hat when he saw me.\n",
       "1212427  spa  El surgimiento del exoesqueleto en los artrópo...\n",
       "6679762  eng                             I know I will survive.\n",
       "5641480  eng         The party split into two warring factions.\n",
       "3224360  ita                        Non lo augurerei a nessuno."
      ]
     },
     "execution_count": 6,
     "metadata": {},
     "output_type": "execute_result"
    }
   ],
   "source": [
    "train = pd.read_csv(\"train.csv\",index_col=0)\n",
    "valid = pd.read_csv(\"valid.csv\",index_col=0)\n",
    "test = pd.read_csv(\"test.csv\",index_col=0)\n",
    "print(len(train),len(valid),len(test))\n",
    "test.head()"
   ]
  },
  {
   "cell_type": "code",
   "execution_count": 22,
   "metadata": {},
   "outputs": [
    {
     "name": "stdout",
     "output_type": "stream",
     "text": [
      "0\n",
      "0\n",
      "1\n"
     ]
    }
   ],
   "source": [
    "test_train = test['sent'].isin(train['sent'])\n",
    "print(sum(test_train))\n",
    "\n",
    "test_valid = test['sent'].isin(valid['sent'])\n",
    "print(sum(test_valid))\n",
    "\n",
    "valid_train = valid['sent'].isin(train['sent'])\n",
    "print(sum(valid_train))\n"
   ]
  },
  {
   "cell_type": "code",
   "execution_count": 37,
   "metadata": {},
   "outputs": [],
   "source": [
    "visual = test.loc[[588989, 631269,1212427,778479,4617704,3224360]]\n",
    "visual.to_csv('visualization.csv')"
   ]
  },
  {
   "cell_type": "code",
   "execution_count": null,
   "metadata": {},
   "outputs": [],
   "source": []
  }
 ],
 "metadata": {
  "kernelspec": {
   "display_name": "Python 3",
   "language": "python",
   "name": "python3"
  },
  "language_info": {
   "codemirror_mode": {
    "name": "ipython",
    "version": 3
   },
   "file_extension": ".py",
   "mimetype": "text/x-python",
   "name": "python",
   "nbconvert_exporter": "python",
   "pygments_lexer": "ipython3",
   "version": "3.7.0"
  }
 },
 "nbformat": 4,
 "nbformat_minor": 2
}

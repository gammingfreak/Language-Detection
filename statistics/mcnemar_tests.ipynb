{
 "cells": [
  {
   "cell_type": "markdown",
   "metadata": {},
   "source": [
    "# McNemar's test for statistical significance"
   ]
  },
  {
   "cell_type": "code",
   "execution_count": 61,
   "metadata": {},
   "outputs": [],
   "source": [
    "import pandas as pd\n",
    "from sklearn.metrics import confusion_matrix\n",
    "from statsmodels.stats.contingency_tables import mcnemar"
   ]
  },
  {
   "cell_type": "code",
   "execution_count": 47,
   "metadata": {},
   "outputs": [
    {
     "name": "stdout",
     "output_type": "stream",
     "text": [
      "30000 30000 30000\n"
     ]
    }
   ],
   "source": [
    "actual = pd.read_csv(\"actual_test_results.csv\",index_col=0)\n",
    "actual = actual['lang'].map({\"eng\": 0, \"deu\": 1, \"spa\": 2, \"fra\": 3, \"por\": 4, \"ita\": 5})\n",
    "actual = list(actual)\n",
    "\n",
    "\n",
    "ann = pd.read_csv(\"ann_test_results_final.csv\",index_col=0)\n",
    "ann = list(ann['ann_test_result'])\n",
    "\n",
    "\n",
    "svm = pd.read_csv(\"svm_test_results_final.csv\",sep='\\t')\n",
    "svm = svm['0.2'].map({\"b'eng'\": 0, \"b'deu'\": 1, \"b'spa'\": 2, \"b'fra'\": 3, \"b'por'\": 4, \"b'ita'\": 5})\n",
    "svm = list(svm)\n",
    "\n",
    "print(len(actual), len(ann),len(svm))"
   ]
  },
  {
   "cell_type": "code",
   "execution_count": 74,
   "metadata": {},
   "outputs": [],
   "source": [
    "def nemar(actual, r1,r2):\n",
    "    t1 = [True if actual[i] == r1[i] else False for i in range(30000)]\n",
    "    t2 = [True if actual[i] == r2[i] else False for i in range(30000)]\n",
    "    table = confusion_matrix(t1,t2)\n",
    "    mc = mcnemar(table, exact=False)\n",
    "    print(mc)"
   ]
  },
  {
   "cell_type": "code",
   "execution_count": 75,
   "metadata": {},
   "outputs": [
    {
     "name": "stdout",
     "output_type": "stream",
     "text": [
      "pvalue      1.6176749166746775e-06\n",
      "statistic   23.002777777777776\n"
     ]
    }
   ],
   "source": [
    "nemar(actual,ann,svm)"
   ]
  }
 ],
 "metadata": {
  "kernelspec": {
   "display_name": "Python 3",
   "language": "python",
   "name": "python3"
  },
  "language_info": {
   "codemirror_mode": {
    "name": "ipython",
    "version": 3
   },
   "file_extension": ".py",
   "mimetype": "text/x-python",
   "name": "python",
   "nbconvert_exporter": "python",
   "pygments_lexer": "ipython3",
   "version": "3.7.0"
  }
 },
 "nbformat": 4,
 "nbformat_minor": 2
}

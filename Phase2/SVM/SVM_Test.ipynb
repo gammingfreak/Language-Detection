{
 "cells": [
  {
   "cell_type": "code",
   "execution_count": 32,
   "metadata": {},
   "outputs": [],
   "source": [
    "import pandas as pd;\n",
    "#import tensorflow as tf;\n",
    "import numpy as np;\n",
    "from sklearn import svm\n",
    "import sklearn\n",
    "import datetime\n"
   ]
  },
  {
   "cell_type": "code",
   "execution_count": 2,
   "metadata": {},
   "outputs": [],
   "source": [
    "def convert_lang_id(df):\n",
    "    conditions = [\n",
    "    (df['lang'] == 'eng'),\n",
    "    (df['lang'] == 'fra'),\n",
    "    (df['lang'] == 'por'),\n",
    "    (df['lang'] == 'spa'),\n",
    "    (df['lang'] == 'deu'),\n",
    "    (df['lang'] == 'ita')\n",
    "    ]\n",
    "    #choices = ['eng', 'fra', 'por','spa','deu','ita']\n",
    "    choices = [1, 2, 3,4 ,5,6]\n",
    "    df['lang'] = np.select(conditions, choices)\n",
    "    return df"
   ]
  },
  {
   "cell_type": "code",
   "execution_count": 3,
   "metadata": {},
   "outputs": [],
   "source": [
    "df_train = pd.read_csv(\"/home/sharmaas/Projects/ML_Phase2/Data/train_100.csv\")"
   ]
  },
  {
   "cell_type": "code",
   "execution_count": 4,
   "metadata": {},
   "outputs": [],
   "source": [
    "df_train.drop(['Unnamed: 0'], axis=1,inplace=True)"
   ]
  },
  {
   "cell_type": "code",
   "execution_count": 5,
   "metadata": {},
   "outputs": [],
   "source": [
    "df_valid = pd.read_csv(\"/home/sharmaas/Projects/ML_Phase2/Data/valid_100.csv\")\n",
    "df_valid.drop(['Unnamed: 0'], axis=1,inplace=True)\n"
   ]
  },
  {
   "cell_type": "code",
   "execution_count": 6,
   "metadata": {},
   "outputs": [],
   "source": [
    "df_valid = convert_lang_id(df_valid)"
   ]
  },
  {
   "cell_type": "code",
   "execution_count": 8,
   "metadata": {},
   "outputs": [
    {
     "data": {
      "text/html": [
       "<div>\n",
       "<style scoped>\n",
       "    .dataframe tbody tr th:only-of-type {\n",
       "        vertical-align: middle;\n",
       "    }\n",
       "\n",
       "    .dataframe tbody tr th {\n",
       "        vertical-align: top;\n",
       "    }\n",
       "\n",
       "    .dataframe thead th {\n",
       "        text-align: right;\n",
       "    }\n",
       "</style>\n",
       "<table border=\"1\" class=\"dataframe\">\n",
       "  <thead>\n",
       "    <tr style=\"text-align: right;\">\n",
       "      <th></th>\n",
       "      <th>I</th>\n",
       "      <th>Ma</th>\n",
       "      <th>To</th>\n",
       "      <th>a</th>\n",
       "      <th>al</th>\n",
       "      <th>an</th>\n",
       "      <th>au</th>\n",
       "      <th>be</th>\n",
       "      <th>ca</th>\n",
       "      <th>ce</th>\n",
       "      <th>...</th>\n",
       "      <th>ver</th>\n",
       "      <th>voc</th>\n",
       "      <th>vou</th>\n",
       "      <th>was</th>\n",
       "      <th>you</th>\n",
       "      <th>zio</th>\n",
       "      <th>zu</th>\n",
       "      <th>ão</th>\n",
       "      <th>ía</th>\n",
       "      <th>lang</th>\n",
       "    </tr>\n",
       "  </thead>\n",
       "  <tbody>\n",
       "    <tr>\n",
       "      <th>0</th>\n",
       "      <td>0</td>\n",
       "      <td>0</td>\n",
       "      <td>0</td>\n",
       "      <td>0</td>\n",
       "      <td>0</td>\n",
       "      <td>0</td>\n",
       "      <td>0</td>\n",
       "      <td>0</td>\n",
       "      <td>0</td>\n",
       "      <td>0</td>\n",
       "      <td>...</td>\n",
       "      <td>0</td>\n",
       "      <td>1</td>\n",
       "      <td>0</td>\n",
       "      <td>0</td>\n",
       "      <td>0</td>\n",
       "      <td>0</td>\n",
       "      <td>0</td>\n",
       "      <td>1</td>\n",
       "      <td>0</td>\n",
       "      <td>3</td>\n",
       "    </tr>\n",
       "    <tr>\n",
       "      <th>1</th>\n",
       "      <td>0</td>\n",
       "      <td>0</td>\n",
       "      <td>0</td>\n",
       "      <td>0</td>\n",
       "      <td>0</td>\n",
       "      <td>0</td>\n",
       "      <td>0</td>\n",
       "      <td>0</td>\n",
       "      <td>0</td>\n",
       "      <td>0</td>\n",
       "      <td>...</td>\n",
       "      <td>0</td>\n",
       "      <td>0</td>\n",
       "      <td>0</td>\n",
       "      <td>0</td>\n",
       "      <td>0</td>\n",
       "      <td>0</td>\n",
       "      <td>0</td>\n",
       "      <td>0</td>\n",
       "      <td>0</td>\n",
       "      <td>5</td>\n",
       "    </tr>\n",
       "  </tbody>\n",
       "</table>\n",
       "<p>2 rows × 352 columns</p>\n",
       "</div>"
      ],
      "text/plain": [
       "    I    Ma   To   a    al   an   au   be   ca   ce  ...   ver  voc  vou  was  \\\n",
       "0    0    0    0    0    0    0    0    0    0    0  ...     0    1    0    0   \n",
       "1    0    0    0    0    0    0    0    0    0    0  ...     0    0    0    0   \n",
       "\n",
       "   you  zio  zu   ão   ía   lang  \n",
       "0    0    0    0    1    0     3  \n",
       "1    0    0    0    0    0     5  \n",
       "\n",
       "[2 rows x 352 columns]"
      ]
     },
     "execution_count": 8,
     "metadata": {},
     "output_type": "execute_result"
    }
   ],
   "source": [
    "df_valid.head(2)"
   ]
  },
  {
   "cell_type": "code",
   "execution_count": 7,
   "metadata": {},
   "outputs": [
    {
     "data": {
      "text/html": [
       "<div>\n",
       "<style scoped>\n",
       "    .dataframe tbody tr th:only-of-type {\n",
       "        vertical-align: middle;\n",
       "    }\n",
       "\n",
       "    .dataframe tbody tr th {\n",
       "        vertical-align: top;\n",
       "    }\n",
       "\n",
       "    .dataframe thead th {\n",
       "        text-align: right;\n",
       "    }\n",
       "</style>\n",
       "<table border=\"1\" class=\"dataframe\">\n",
       "  <thead>\n",
       "    <tr style=\"text-align: right;\">\n",
       "      <th></th>\n",
       "      <th>I</th>\n",
       "      <th>Ma</th>\n",
       "      <th>To</th>\n",
       "      <th>a</th>\n",
       "      <th>al</th>\n",
       "      <th>an</th>\n",
       "      <th>au</th>\n",
       "      <th>be</th>\n",
       "      <th>ca</th>\n",
       "      <th>ce</th>\n",
       "      <th>...</th>\n",
       "      <th>ver</th>\n",
       "      <th>voc</th>\n",
       "      <th>vou</th>\n",
       "      <th>was</th>\n",
       "      <th>you</th>\n",
       "      <th>zio</th>\n",
       "      <th>zu</th>\n",
       "      <th>ão</th>\n",
       "      <th>ía</th>\n",
       "      <th>lang</th>\n",
       "    </tr>\n",
       "  </thead>\n",
       "  <tbody>\n",
       "    <tr>\n",
       "      <th>0</th>\n",
       "      <td>0</td>\n",
       "      <td>0</td>\n",
       "      <td>0</td>\n",
       "      <td>0</td>\n",
       "      <td>0</td>\n",
       "      <td>0</td>\n",
       "      <td>0</td>\n",
       "      <td>0</td>\n",
       "      <td>0</td>\n",
       "      <td>0</td>\n",
       "      <td>...</td>\n",
       "      <td>0</td>\n",
       "      <td>0</td>\n",
       "      <td>0</td>\n",
       "      <td>0</td>\n",
       "      <td>2</td>\n",
       "      <td>0</td>\n",
       "      <td>0</td>\n",
       "      <td>0</td>\n",
       "      <td>0</td>\n",
       "      <td>1</td>\n",
       "    </tr>\n",
       "    <tr>\n",
       "      <th>1</th>\n",
       "      <td>0</td>\n",
       "      <td>0</td>\n",
       "      <td>0</td>\n",
       "      <td>0</td>\n",
       "      <td>0</td>\n",
       "      <td>0</td>\n",
       "      <td>0</td>\n",
       "      <td>0</td>\n",
       "      <td>0</td>\n",
       "      <td>0</td>\n",
       "      <td>...</td>\n",
       "      <td>0</td>\n",
       "      <td>0</td>\n",
       "      <td>0</td>\n",
       "      <td>0</td>\n",
       "      <td>0</td>\n",
       "      <td>0</td>\n",
       "      <td>0</td>\n",
       "      <td>0</td>\n",
       "      <td>0</td>\n",
       "      <td>2</td>\n",
       "    </tr>\n",
       "  </tbody>\n",
       "</table>\n",
       "<p>2 rows × 352 columns</p>\n",
       "</div>"
      ],
      "text/plain": [
       "    I    Ma   To   a    al   an   au   be   ca   ce  ...   ver  voc  vou  was  \\\n",
       "0    0    0    0    0    0    0    0    0    0    0  ...     0    0    0    0   \n",
       "1    0    0    0    0    0    0    0    0    0    0  ...     0    0    0    0   \n",
       "\n",
       "   you  zio  zu   ão   ía   lang  \n",
       "0    2    0    0    0    0     1  \n",
       "1    0    0    0    0    0     2  \n",
       "\n",
       "[2 rows x 352 columns]"
      ]
     },
     "execution_count": 7,
     "metadata": {},
     "output_type": "execute_result"
    }
   ],
   "source": [
    "df_train = convert_lang_id(df_train)\n",
    "df_train.head(2)"
   ]
  },
  {
   "cell_type": "code",
   "execution_count": 9,
   "metadata": {},
   "outputs": [
    {
     "name": "stdout",
     "output_type": "stream",
     "text": [
      "(210000, 351)\n"
     ]
    },
    {
     "data": {
      "text/plain": [
       "(210000, 1)"
      ]
     },
     "execution_count": 9,
     "metadata": {},
     "output_type": "execute_result"
    }
   ],
   "source": [
    "df_train.shape\n",
    "np_arry = np.array(df_train)\n",
    "X_train= np_arry[:,0:(np_arry.shape[1]-1)]\n",
    "Y_train= np_arry[:,(np_arry.shape[1]-1):(np_arry.shape[1])]\n",
    "print(X_train.shape)\n",
    "Y_train.shape"
   ]
  },
  {
   "cell_type": "code",
   "execution_count": 10,
   "metadata": {},
   "outputs": [
    {
     "name": "stdout",
     "output_type": "stream",
     "text": [
      "(210000, 351)\n"
     ]
    },
    {
     "data": {
      "text/plain": [
       "(210000, 1)"
      ]
     },
     "execution_count": 10,
     "metadata": {},
     "output_type": "execute_result"
    }
   ],
   "source": [
    "np_arry_valid = np.array(df_valid)\n",
    "X_valid= np_arry[:,0:(np_arry.shape[1]-1)]\n",
    "Y_valid= np_arry[:,(np_arry.shape[1]-1):(np_arry.shape[1])]\n",
    "print(X_valid.shape)\n",
    "Y_valid.shape"
   ]
  },
  {
   "cell_type": "code",
   "execution_count": 11,
   "metadata": {},
   "outputs": [
    {
     "name": "stderr",
     "output_type": "stream",
     "text": [
      "/home/sharmaas/anaconda3/envs/tensorflow/lib/python3.6/site-packages/sklearn/utils/validation.py:752: DataConversionWarning: A column-vector y was passed when a 1d array was expected. Please change the shape of y to (n_samples, ), for example using ravel().\n",
      "  y = column_or_1d(y, warn=True)\n",
      "/home/sharmaas/anaconda3/envs/tensorflow/lib/python3.6/site-packages/sklearn/svm/base.py:922: ConvergenceWarning: Liblinear failed to converge, increase the number of iterations.\n",
      "  \"the number of iterations.\", ConvergenceWarning)\n"
     ]
    },
    {
     "data": {
      "text/plain": [
       "LinearSVC(C=1.0, class_weight=None, dual=True, fit_intercept=True,\n",
       "     intercept_scaling=1, loss='squared_hinge', max_iter=1000,\n",
       "     multi_class='ovr', penalty='l2', random_state=None, tol=0.0001,\n",
       "     verbose=0)"
      ]
     },
     "execution_count": 11,
     "metadata": {},
     "output_type": "execute_result"
    }
   ],
   "source": [
    "#clf = svm.SVC(gamma='scale', decision_function_shape='ovo')\n",
    "#clf.fit(X, Y) \n",
    "clf = svm.LinearSVC()\n",
    "clf.fit(X_train, Y_train)"
   ]
  },
  {
   "cell_type": "code",
   "execution_count": 12,
   "metadata": {},
   "outputs": [],
   "source": [
    "Y_hat_valid = clf.predict(X_valid)"
   ]
  },
  {
   "cell_type": "code",
   "execution_count": 20,
   "metadata": {},
   "outputs": [
    {
     "name": "stdout",
     "output_type": "stream",
     "text": [
      "              precision    recall  f1-score   support\n",
      "\n",
      "         eng       0.98      0.99      0.99     34780\n",
      "         fra       0.97      0.97      0.97     35081\n",
      "         por       0.93      0.96      0.94     33629\n",
      "         spa       0.94      0.90      0.92     36472\n",
      "         deu       0.99      0.99      0.99     34868\n",
      "         ita       0.96      0.95      0.96     35170\n",
      "\n",
      "   micro avg       0.96      0.96      0.96    210000\n",
      "   macro avg       0.96      0.96      0.96    210000\n",
      "weighted avg       0.96      0.96      0.96    210000\n",
      "\n"
     ]
    }
   ],
   "source": [
    "lang=['eng', 'fra', 'por','spa','deu','ita']\n",
    "print(sklearn.metrics.classification_report(Y_hat_valid, Y_valid,target_names=lang))"
   ]
  },
  {
   "cell_type": "code",
   "execution_count": 21,
   "metadata": {},
   "outputs": [
    {
     "data": {
      "text/plain": [
       "array([[34425,    63,    60,    73,   105,    54],\n",
       "       [  214, 34095,   224,   288,    56,   204],\n",
       "       [   75,   118, 32303,   899,    18,   216],\n",
       "       [  141,   556,  1898, 32912,    47,   918],\n",
       "       [   75,    56,    10,    24, 34676,    27],\n",
       "       [   94,   248,   417,   777,    52, 33582]])"
      ]
     },
     "execution_count": 21,
     "metadata": {},
     "output_type": "execute_result"
    }
   ],
   "source": [
    "sklearn.metrics.confusion_matrix(Y_hat_valid, Y_valid)"
   ]
  },
  {
   "cell_type": "code",
   "execution_count": 35,
   "metadata": {},
   "outputs": [
    {
     "name": "stdout",
     "output_type": "stream",
     "text": [
      "(210000, 351)\n"
     ]
    },
    {
     "data": {
      "text/plain": [
       "(210000, 1)"
      ]
     },
     "execution_count": 35,
     "metadata": {},
     "output_type": "execute_result"
    }
   ],
   "source": [
    "X1= np_arry[:,0:(np_arry.shape[1]-1)]\n",
    "Y1= np_arry[:,(np_arry.shape[1]-1):(np_arry.shape[1])]\n",
    "print(X1.shape)\n",
    "Y1.shape"
   ]
  },
  {
   "cell_type": "code",
   "execution_count": 36,
   "metadata": {},
   "outputs": [
    {
     "name": "stdout",
     "output_type": "stream",
     "text": [
      "2018-11-19 01:09:36.820988\n"
     ]
    }
   ],
   "source": [
    "dt = datetime.datetime.now()\n",
    "print(dt)"
   ]
  },
  {
   "cell_type": "code",
   "execution_count": 37,
   "metadata": {},
   "outputs": [
    {
     "name": "stderr",
     "output_type": "stream",
     "text": [
      "/home/sharmaas/anaconda3/envs/tensorflow/lib/python3.6/site-packages/sklearn/utils/validation.py:752: DataConversionWarning: A column-vector y was passed when a 1d array was expected. Please change the shape of y to (n_samples, ), for example using ravel().\n",
      "  y = column_or_1d(y, warn=True)\n"
     ]
    },
    {
     "data": {
      "text/plain": [
       "SVC(C=1.0, cache_size=200, class_weight=None, coef0=0.0,\n",
       "  decision_function_shape='ovr', degree=3, gamma='auto_deprecated',\n",
       "  kernel='linear', max_iter=-1, probability=False, random_state=None,\n",
       "  shrinking=True, tol=0.001, verbose=False)"
      ]
     },
     "execution_count": 37,
     "metadata": {},
     "output_type": "execute_result"
    }
   ],
   "source": [
    "linear_svc = svm.SVC(kernel='linear')\n",
    "linear_svc.fit(X1, Y1)"
   ]
  },
  {
   "cell_type": "code",
   "execution_count": 38,
   "metadata": {},
   "outputs": [
    {
     "name": "stdout",
     "output_type": "stream",
     "text": [
      "2018-11-19 01:42:13.362521\n"
     ]
    }
   ],
   "source": [
    "dt = datetime.datetime.now()\n",
    "print(dt)"
   ]
  },
  {
   "cell_type": "code",
   "execution_count": 40,
   "metadata": {},
   "outputs": [
    {
     "data": {
      "text/plain": [
       "0.9677142857142857"
      ]
     },
     "execution_count": 40,
     "metadata": {},
     "output_type": "execute_result"
    }
   ],
   "source": [
    "sklearn.metrics.accuracy_score(Y_hat_valid_2, Y_valid, normalize=True, sample_weight=None)Q"
   ]
  },
  {
   "cell_type": "code",
   "execution_count": 39,
   "metadata": {},
   "outputs": [],
   "source": [
    "Y_hat_valid_2 = linear_svc.predict(X_valid)"
   ]
  },
  {
   "cell_type": "code",
   "execution_count": 41,
   "metadata": {},
   "outputs": [
    {
     "name": "stdout",
     "output_type": "stream",
     "text": [
      "2018-11-19 02:03:07.986877\n"
     ]
    }
   ],
   "source": [
    "dt = datetime.datetime.now()\n",
    "print(dt)"
   ]
  },
  {
   "cell_type": "code",
   "execution_count": 42,
   "metadata": {},
   "outputs": [
    {
     "name": "stdout",
     "output_type": "stream",
     "text": [
      "              precision    recall  f1-score   support\n",
      "\n",
      "         eng       0.99      0.99      0.99     34990\n",
      "         fra       0.98      0.98      0.98     35235\n",
      "         por       0.94      0.96      0.95     34021\n",
      "         spa       0.94      0.92      0.93     35638\n",
      "         deu       0.99      1.00      1.00     34880\n",
      "         ita       0.97      0.96      0.96     35236\n",
      "\n",
      "   micro avg       0.97      0.97      0.97    210000\n",
      "   macro avg       0.97      0.97      0.97    210000\n",
      "weighted avg       0.97      0.97      0.97    210000\n",
      "\n"
     ]
    }
   ],
   "source": [
    "lang=['eng', 'fra', 'por','spa','deu','ita']\n",
    "print(sklearn.metrics.classification_report(Y_hat_valid_2, Y_valid,target_names=lang))"
   ]
  },
  {
   "cell_type": "code",
   "execution_count": 43,
   "metadata": {},
   "outputs": [
    {
     "data": {
      "text/plain": [
       "array([[34649,    86,    60,    56,    88,    51],\n",
       "       [  124, 34380,   171,   330,    53,   177],\n",
       "       [   44,    96, 32719,   971,     7,   184],\n",
       "       [   81,   372,  1616, 32838,    29,   702],\n",
       "       [   66,    27,     7,     9, 34759,    12],\n",
       "       [   60,   175,   339,   769,    18, 33875]])"
      ]
     },
     "execution_count": 43,
     "metadata": {},
     "output_type": "execute_result"
    }
   ],
   "source": [
    "sklearn.metrics.confusion_matrix(Y_hat_valid_2, Y_valid)"
   ]
  },
  {
   "cell_type": "code",
   "execution_count": null,
   "metadata": {},
   "outputs": [],
   "source": []
  }
 ],
 "metadata": {
  "kernelspec": {
   "display_name": "Python 3",
   "language": "python",
   "name": "python3"
  },
  "language_info": {
   "codemirror_mode": {
    "name": "ipython",
    "version": 3
   },
   "file_extension": ".py",
   "mimetype": "text/x-python",
   "name": "python",
   "nbconvert_exporter": "python",
   "pygments_lexer": "ipython3",
   "version": "3.6.6"
  }
 },
 "nbformat": 4,
 "nbformat_minor": 2
}

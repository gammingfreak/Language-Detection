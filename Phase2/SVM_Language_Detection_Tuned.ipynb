{
 "cells": [
  {
   "cell_type": "code",
   "execution_count": 1,
   "metadata": {},
   "outputs": [],
   "source": [
    "import pandas as pd;\n",
    "#import tensorflow as tf;\n",
    "import numpy as np;\n",
    "from sklearn import svm\n",
    "import sklearn\n",
    "import datetime\n"
   ]
  },
  {
   "cell_type": "code",
   "execution_count": 2,
   "metadata": {},
   "outputs": [],
   "source": [
    "def convert_lang_id(df):\n",
    "    conditions = [\n",
    "    (df['lang'] == 'eng'),\n",
    "    (df['lang'] == 'fra'),\n",
    "    (df['lang'] == 'por'),\n",
    "    (df['lang'] == 'spa'),\n",
    "    (df['lang'] == 'deu'),\n",
    "    (df['lang'] == 'ita')\n",
    "    ]\n",
    "    #choices = ['eng', 'fra', 'por','spa','deu','ita']\n",
    "    choices = [1, 2, 3,4 ,5,6]\n",
    "    df['lang'] = np.select(conditions, choices)\n",
    "    return df"
   ]
  },
  {
   "cell_type": "code",
   "execution_count": 3,
   "metadata": {},
   "outputs": [],
   "source": [
    "data_path=\"/users/pgrad/sharmaas/ML_Project/Phase2/Data/\"\n",
    "file_type=\".csv\"\n",
    "train_file=\"train_200\"\n",
    "valid_file=\"valid_200\"\n",
    "test_file=\"test_200\""
   ]
  },
  {
   "cell_type": "code",
   "execution_count": 71,
   "metadata": {},
   "outputs": [
    {
     "data": {
      "text/plain": [
       "4"
      ]
     },
     "execution_count": 71,
     "metadata": {},
     "output_type": "execute_result"
    }
   ],
   "source": [
    "df_test['lang'][167]"
   ]
  },
  {
   "cell_type": "code",
   "execution_count": 4,
   "metadata": {},
   "outputs": [
    {
     "data": {
      "text/plain": [
       "(210000, 679)"
      ]
     },
     "execution_count": 4,
     "metadata": {},
     "output_type": "execute_result"
    }
   ],
   "source": [
    "df_train = pd.read_csv(data_path+train_file+file_type)\n",
    "df_train.shape"
   ]
  },
  {
   "cell_type": "code",
   "execution_count": 5,
   "metadata": {},
   "outputs": [],
   "source": [
    "df_train.drop(['Unnamed: 0'], axis=1,inplace=True)"
   ]
  },
  {
   "cell_type": "code",
   "execution_count": 6,
   "metadata": {},
   "outputs": [],
   "source": [
    "df_valid = pd.read_csv(data_path+valid_file+file_type)\n",
    "df_valid.drop(['Unnamed: 0'], axis=1,inplace=True)\n"
   ]
  },
  {
   "cell_type": "code",
   "execution_count": 7,
   "metadata": {},
   "outputs": [],
   "source": [
    "df_valid = convert_lang_id(df_valid)"
   ]
  },
  {
   "cell_type": "code",
   "execution_count": 8,
   "metadata": {},
   "outputs": [
    {
     "data": {
      "text/html": [
       "<div>\n",
       "<style scoped>\n",
       "    .dataframe tbody tr th:only-of-type {\n",
       "        vertical-align: middle;\n",
       "    }\n",
       "\n",
       "    .dataframe tbody tr th {\n",
       "        vertical-align: top;\n",
       "    }\n",
       "\n",
       "    .dataframe thead th {\n",
       "        text-align: right;\n",
       "    }\n",
       "</style>\n",
       "<table border=\"1\" class=\"dataframe\">\n",
       "  <thead>\n",
       "    <tr style=\"text-align: right;\">\n",
       "      <th></th>\n",
       "      <th>Ge</th>\n",
       "      <th>I</th>\n",
       "      <th>Ma</th>\n",
       "      <th>Sc</th>\n",
       "      <th>Si</th>\n",
       "      <th>To</th>\n",
       "      <th>a</th>\n",
       "      <th>ac</th>\n",
       "      <th>al</th>\n",
       "      <th>an</th>\n",
       "      <th>...</th>\n",
       "      <th>y w</th>\n",
       "      <th>you</th>\n",
       "      <th>zio</th>\n",
       "      <th>zu</th>\n",
       "      <th>ás</th>\n",
       "      <th>ão</th>\n",
       "      <th>ère</th>\n",
       "      <th>ía</th>\n",
       "      <th>ón</th>\n",
       "      <th>lang</th>\n",
       "    </tr>\n",
       "  </thead>\n",
       "  <tbody>\n",
       "    <tr>\n",
       "      <th>0</th>\n",
       "      <td>0</td>\n",
       "      <td>0</td>\n",
       "      <td>0</td>\n",
       "      <td>0</td>\n",
       "      <td>0</td>\n",
       "      <td>0</td>\n",
       "      <td>0</td>\n",
       "      <td>0</td>\n",
       "      <td>0</td>\n",
       "      <td>0</td>\n",
       "      <td>...</td>\n",
       "      <td>0</td>\n",
       "      <td>0</td>\n",
       "      <td>0</td>\n",
       "      <td>0</td>\n",
       "      <td>0</td>\n",
       "      <td>1</td>\n",
       "      <td>0</td>\n",
       "      <td>0</td>\n",
       "      <td>0</td>\n",
       "      <td>3</td>\n",
       "    </tr>\n",
       "    <tr>\n",
       "      <th>1</th>\n",
       "      <td>0</td>\n",
       "      <td>0</td>\n",
       "      <td>0</td>\n",
       "      <td>0</td>\n",
       "      <td>0</td>\n",
       "      <td>0</td>\n",
       "      <td>0</td>\n",
       "      <td>0</td>\n",
       "      <td>0</td>\n",
       "      <td>0</td>\n",
       "      <td>...</td>\n",
       "      <td>0</td>\n",
       "      <td>0</td>\n",
       "      <td>0</td>\n",
       "      <td>0</td>\n",
       "      <td>0</td>\n",
       "      <td>0</td>\n",
       "      <td>0</td>\n",
       "      <td>0</td>\n",
       "      <td>0</td>\n",
       "      <td>5</td>\n",
       "    </tr>\n",
       "  </tbody>\n",
       "</table>\n",
       "<p>2 rows × 678 columns</p>\n",
       "</div>"
      ],
      "text/plain": [
       "    Ge   I    Ma   Sc   Si   To   a    ac   al   an  ...   y w  you  zio  zu   \\\n",
       "0    0    0    0    0    0    0    0    0    0    0  ...     0    0    0    0   \n",
       "1    0    0    0    0    0    0    0    0    0    0  ...     0    0    0    0   \n",
       "\n",
       "   ás   ão   ère  ía   ón   lang  \n",
       "0    0    1    0    0    0     3  \n",
       "1    0    0    0    0    0     5  \n",
       "\n",
       "[2 rows x 678 columns]"
      ]
     },
     "execution_count": 8,
     "metadata": {},
     "output_type": "execute_result"
    }
   ],
   "source": [
    "df_valid.head(2)"
   ]
  },
  {
   "cell_type": "code",
   "execution_count": 9,
   "metadata": {},
   "outputs": [
    {
     "data": {
      "text/html": [
       "<div>\n",
       "<style scoped>\n",
       "    .dataframe tbody tr th:only-of-type {\n",
       "        vertical-align: middle;\n",
       "    }\n",
       "\n",
       "    .dataframe tbody tr th {\n",
       "        vertical-align: top;\n",
       "    }\n",
       "\n",
       "    .dataframe thead th {\n",
       "        text-align: right;\n",
       "    }\n",
       "</style>\n",
       "<table border=\"1\" class=\"dataframe\">\n",
       "  <thead>\n",
       "    <tr style=\"text-align: right;\">\n",
       "      <th></th>\n",
       "      <th>Ge</th>\n",
       "      <th>I</th>\n",
       "      <th>Ma</th>\n",
       "      <th>Sc</th>\n",
       "      <th>Si</th>\n",
       "      <th>To</th>\n",
       "      <th>a</th>\n",
       "      <th>ac</th>\n",
       "      <th>al</th>\n",
       "      <th>an</th>\n",
       "      <th>...</th>\n",
       "      <th>y w</th>\n",
       "      <th>you</th>\n",
       "      <th>zio</th>\n",
       "      <th>zu</th>\n",
       "      <th>ás</th>\n",
       "      <th>ão</th>\n",
       "      <th>ère</th>\n",
       "      <th>ía</th>\n",
       "      <th>ón</th>\n",
       "      <th>lang</th>\n",
       "    </tr>\n",
       "  </thead>\n",
       "  <tbody>\n",
       "    <tr>\n",
       "      <th>0</th>\n",
       "      <td>0</td>\n",
       "      <td>0</td>\n",
       "      <td>0</td>\n",
       "      <td>0</td>\n",
       "      <td>0</td>\n",
       "      <td>0</td>\n",
       "      <td>0</td>\n",
       "      <td>0</td>\n",
       "      <td>0</td>\n",
       "      <td>0</td>\n",
       "      <td>...</td>\n",
       "      <td>0</td>\n",
       "      <td>2</td>\n",
       "      <td>0</td>\n",
       "      <td>0</td>\n",
       "      <td>0</td>\n",
       "      <td>0</td>\n",
       "      <td>0</td>\n",
       "      <td>0</td>\n",
       "      <td>0</td>\n",
       "      <td>1</td>\n",
       "    </tr>\n",
       "    <tr>\n",
       "      <th>1</th>\n",
       "      <td>0</td>\n",
       "      <td>0</td>\n",
       "      <td>0</td>\n",
       "      <td>0</td>\n",
       "      <td>0</td>\n",
       "      <td>0</td>\n",
       "      <td>0</td>\n",
       "      <td>0</td>\n",
       "      <td>0</td>\n",
       "      <td>0</td>\n",
       "      <td>...</td>\n",
       "      <td>0</td>\n",
       "      <td>0</td>\n",
       "      <td>0</td>\n",
       "      <td>0</td>\n",
       "      <td>0</td>\n",
       "      <td>0</td>\n",
       "      <td>0</td>\n",
       "      <td>0</td>\n",
       "      <td>0</td>\n",
       "      <td>2</td>\n",
       "    </tr>\n",
       "  </tbody>\n",
       "</table>\n",
       "<p>2 rows × 678 columns</p>\n",
       "</div>"
      ],
      "text/plain": [
       "    Ge   I    Ma   Sc   Si   To   a    ac   al   an  ...   y w  you  zio  zu   \\\n",
       "0    0    0    0    0    0    0    0    0    0    0  ...     0    2    0    0   \n",
       "1    0    0    0    0    0    0    0    0    0    0  ...     0    0    0    0   \n",
       "\n",
       "   ás   ão   ère  ía   ón   lang  \n",
       "0    0    0    0    0    0     1  \n",
       "1    0    0    0    0    0     2  \n",
       "\n",
       "[2 rows x 678 columns]"
      ]
     },
     "execution_count": 9,
     "metadata": {},
     "output_type": "execute_result"
    }
   ],
   "source": [
    "df_train = convert_lang_id(df_train)\n",
    "df_train.head(2)"
   ]
  },
  {
   "cell_type": "code",
   "execution_count": 10,
   "metadata": {},
   "outputs": [],
   "source": [
    "df_test = pd.read_csv(data_path+test_file+file_type)"
   ]
  },
  {
   "cell_type": "code",
   "execution_count": 11,
   "metadata": {},
   "outputs": [],
   "source": [
    "df_test.drop(['Unnamed: 0'], axis=1,inplace=True)"
   ]
  },
  {
   "cell_type": "code",
   "execution_count": 12,
   "metadata": {},
   "outputs": [],
   "source": [
    "df_test = convert_lang_id(df_test)"
   ]
  },
  {
   "cell_type": "code",
   "execution_count": 13,
   "metadata": {},
   "outputs": [
    {
     "name": "stdout",
     "output_type": "stream",
     "text": [
      "(210000, 677)\n"
     ]
    },
    {
     "data": {
      "text/plain": [
       "(210000, 1)"
      ]
     },
     "execution_count": 13,
     "metadata": {},
     "output_type": "execute_result"
    }
   ],
   "source": [
    "df_train.shape\n",
    "np_arry_train = np.array(df_train)\n",
    "X_train= np_arry_train[:,0:(np_arry_train.shape[1]-1)]\n",
    "Y_train= np_arry_train[:,(np_arry_train.shape[1]-1):(np_arry_train.shape[1])]\n",
    "print(X_train.shape)\n",
    "Y_train.shape"
   ]
  },
  {
   "cell_type": "code",
   "execution_count": null,
   "metadata": {},
   "outputs": [],
   "source": [
    "np_arry_valid = np.array(df_valid)\n",
    "X_valid= np_arry_valid[:,0:(np_arry_valid.shape[1]-1)]\n",
    "Y_valid= np_arry_valid[:,(np_arry_valid.shape[1]-1):(np_arry_valid.shape[1])]\n",
    "print(X_valid.shape)\n",
    "Y_valid.shape"
   ]
  },
  {
   "cell_type": "code",
   "execution_count": 14,
   "metadata": {},
   "outputs": [
    {
     "name": "stdout",
     "output_type": "stream",
     "text": [
      "(210000, 677)\n"
     ]
    },
    {
     "data": {
      "text/plain": [
       "(210000, 1)"
      ]
     },
     "execution_count": 14,
     "metadata": {},
     "output_type": "execute_result"
    }
   ],
   "source": [
    "np_arry_test = np.array(df_test)\n",
    "X_test= np_arry_test[:,0:(np_arry_test.shape[1]-1)]\n",
    "Y_test= np_arry_test[:,(np_arry_test.shape[1]-1):(np_arry_test.shape[1])]\n",
    "print(X_train.shape)\n",
    "Y_train.shape"
   ]
  },
  {
   "cell_type": "code",
   "execution_count": 21,
   "metadata": {},
   "outputs": [
    {
     "name": "stderr",
     "output_type": "stream",
     "text": [
      "/users/pgrad/sharmaas/anaconda3/lib/python3.7/site-packages/sklearn/utils/validation.py:578: DataConversionWarning: A column-vector y was passed when a 1d array was expected. Please change the shape of y to (n_samples, ), for example using ravel().\n",
      "  y = column_or_1d(y, warn=True)\n"
     ]
    },
    {
     "data": {
      "text/plain": [
       "SVC(C=0.1, cache_size=200, class_weight=None, coef0=0.0,\n",
       "  decision_function_shape='ovr', degree=3, gamma='auto', kernel='linear',\n",
       "  max_iter=-1, probability=False, random_state=None, shrinking=True,\n",
       "  tol=0.001, verbose=False)"
      ]
     },
     "execution_count": 21,
     "metadata": {},
     "output_type": "execute_result"
    }
   ],
   "source": [
    "#clf = svm.SVC(gamma='scale', decision_function_shape='ovo')\n",
    "#clf.fit(X, Y) \n",
    "#clf = svm.LinearSVC( penalty='l1', loss='squared_hinge',dual=False)\n",
    "clf = svm.SVC(kernel='linear',C=0.1)\n",
    "clf.fit(X_train, Y_train)"
   ]
  },
  {
   "cell_type": "code",
   "execution_count": 22,
   "metadata": {},
   "outputs": [
    {
     "data": {
      "text/plain": [
       "<bound method BaseEstimator.get_params of SVC(C=0.1, cache_size=200, class_weight=None, coef0=0.0,\n",
       "  decision_function_shape='ovr', degree=3, gamma='auto', kernel='linear',\n",
       "  max_iter=-1, probability=False, random_state=None, shrinking=True,\n",
       "  tol=0.001, verbose=False)>"
      ]
     },
     "execution_count": 22,
     "metadata": {},
     "output_type": "execute_result"
    }
   ],
   "source": [
    "clf.get_params"
   ]
  },
  {
   "cell_type": "code",
   "execution_count": 23,
   "metadata": {},
   "outputs": [],
   "source": [
    "Y_hat_test = clf.predict(X_test)"
   ]
  },
  {
   "cell_type": "code",
   "execution_count": 24,
   "metadata": {},
   "outputs": [
    {
     "name": "stdout",
     "output_type": "stream",
     "text": [
      "             precision    recall  f1-score   support\n",
      "\n",
      "        eng      0.997     0.992     0.994      5094\n",
      "        fra      0.990     0.992     0.991      4944\n",
      "        por      0.977     0.972     0.974      4960\n",
      "        spa      0.966     0.970     0.968      5004\n",
      "        deu      0.998     0.998     0.998      5071\n",
      "        ita      0.983     0.987     0.985      4927\n",
      "\n",
      "avg / total      0.985     0.985     0.985     30000\n",
      "\n"
     ]
    }
   ],
   "source": [
    "lang=['eng', 'fra', 'por','spa','deu','ita']\n",
    "print(sklearn.metrics.classification_report(Y_test,Y_hat_test,target_names=lang,digits=3))"
   ]
  },
  {
   "cell_type": "code",
   "execution_count": 25,
   "metadata": {},
   "outputs": [
    {
     "data": {
      "text/plain": [
       "array([[5054,   13,    7,    8,    5,    7],\n",
       "       [   5, 4903,    8,   15,    1,   12],\n",
       "       [   0,    2, 4819,  113,    1,   25],\n",
       "       [   6,   17,   85, 4855,    3,   38],\n",
       "       [   4,    2,    0,    2, 5061,    2],\n",
       "       [   1,   15,   15,   32,    1, 4863]])"
      ]
     },
     "execution_count": 25,
     "metadata": {},
     "output_type": "execute_result"
    }
   ],
   "source": [
    "sklearn.metrics.confusion_matrix(Y_test,Y_hat_test)"
   ]
  },
  {
   "cell_type": "code",
   "execution_count": 26,
   "metadata": {},
   "outputs": [
    {
     "data": {
      "text/plain": [
       "0.9851666666666666"
      ]
     },
     "execution_count": 26,
     "metadata": {},
     "output_type": "execute_result"
    }
   ],
   "source": [
    "sklearn.metrics.accuracy_score(Y_test,Y_hat_test, normalize=True, sample_weight=None)"
   ]
  },
  {
   "cell_type": "code",
   "execution_count": 63,
   "metadata": {},
   "outputs": [],
   "source": [
    "def convert_lang_id_langname(np_imp):\n",
    "    #choices = ['eng', 'fra', 'por','spa','deu','ita']\n",
    "    choices = [1, 2, 3,4 ,5,6]\n",
    "    np_out= np.chararray(np_imp.shape,itemsize=3)\n",
    "    for x in range(np_imp.shape[0]):\n",
    "        if np_imp[x]==1:\n",
    "            np_out[x]='eng'\n",
    "        elif np_imp[x]==2:\n",
    "            np_out[x]='fra'\n",
    "        elif np_imp[x]==3:\n",
    "            np_out[x]='por'\n",
    "        elif np_imp[x]==4:\n",
    "            np_out[x]='spa'\n",
    "        elif np_imp[x]==5:\n",
    "            np_out[x]='deu'\n",
    "        elif np_imp[x]==6:\n",
    "            np_out[x]='ita'\n",
    "    return np_out\n"
   ]
  },
  {
   "cell_type": "code",
   "execution_count": 54,
   "metadata": {},
   "outputs": [
    {
     "data": {
      "text/plain": [
       "4"
      ]
     },
     "execution_count": 54,
     "metadata": {},
     "output_type": "execute_result"
    }
   ],
   "source": [
    "Y_hat_test[29999]"
   ]
  },
  {
   "cell_type": "code",
   "execution_count": 69,
   "metadata": {},
   "outputs": [
    {
     "data": {
      "text/plain": [
       "(30000,)"
      ]
     },
     "execution_count": 69,
     "metadata": {},
     "output_type": "execute_result"
    }
   ],
   "source": [
    "Y_pred_lang = convert_lang_id_langname(Y_hat_test)\n",
    "Y_act_lang = convert_lang_id_langname(Y_test)\n",
    "Y_pred_lang.shape"
   ]
  },
  {
   "cell_type": "code",
   "execution_count": 70,
   "metadata": {},
   "outputs": [],
   "source": [
    "pd_c_df=pd.concat([pd.DataFrame(Y_hat_test),pd.DataFrame(Y_test),pd.DataFrame(Y_pred_lang),pd.DataFrame(Y_act_lang)],axis=1)\n",
    "pd_c_df.to_csv(\"/users/pgrad/sharmaas/ML_Project/Phase2/20181128/Outfiles/Y_hat_test_C_1__Top200.csv\", sep='\\t',index=False)"
   ]
  }
 ],
 "metadata": {
  "kernelspec": {
   "display_name": "Python 3",
   "language": "python",
   "name": "python3"
  },
  "language_info": {
   "codemirror_mode": {
    "name": "ipython",
    "version": 3
   },
   "file_extension": ".py",
   "mimetype": "text/x-python",
   "name": "python",
   "nbconvert_exporter": "python",
   "pygments_lexer": "ipython3",
   "version": "3.7.0"
  }
 },
 "nbformat": 4,
 "nbformat_minor": 2
}
